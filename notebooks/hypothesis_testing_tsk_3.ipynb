{
 "cells": [
  {
   "cell_type": "markdown",
   "id": "675e5e95",
   "metadata": {},
   "source": [
    "A/B - Hypothesis Testing"
   ]
  },
  {
   "cell_type": "code",
   "execution_count": 1,
   "id": "b3a867c5",
   "metadata": {},
   "outputs": [],
   "source": [
    "# Import standard python libraries\n",
    "import pandas as pd\n",
    "import os,sys\n",
    "\n",
    "# Get the absolute path of the parent directory\n",
    "rpath = os.path.abspath('..')\n",
    "if rpath not in sys.path:\n",
    "    sys.path.insert(0, rpath)"
   ]
  }
 ],
 "metadata": {
  "kernelspec": {
   "display_name": ".venvdes",
   "language": "python",
   "name": "python3"
  },
  "language_info": {
   "codemirror_mode": {
    "name": "ipython",
    "version": 3
   },
   "file_extension": ".py",
   "mimetype": "text/x-python",
   "name": "python",
   "nbconvert_exporter": "python",
   "pygments_lexer": "ipython3",
   "version": "3.13.3"
  }
 },
 "nbformat": 4,
 "nbformat_minor": 5
}
