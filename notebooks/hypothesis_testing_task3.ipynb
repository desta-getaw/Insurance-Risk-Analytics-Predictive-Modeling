{
 "cells": [
  {
   "cell_type": "markdown",
   "id": "675e5e95",
   "metadata": {},
   "source": [
    "A/B - Hypothesis Testing"
   ]
  },
  {
   "cell_type": "markdown",
   "id": "202f791e",
   "metadata": {},
   "source": [
    "A statistical hypothesis test is a formal procedure used to determine whether there is enough evidence in a sample of data to infer that a certain condition is true for the entire population. It helps in making data-driven decisions.\n",
    "\n",
    "this notebook attempt to answer questions based on the distribution and relationships between different attributes in our dataset using Hypothesis Tests.\n",
    "\n",
    "The approach involves the following steps:\n",
    "- Define the null hypothesis(H₀) and the alternative hypothesis((H₁)).\n",
    "- Select a suitable statistical test along with the corresponding test statistic.\n",
    "- Choose a significance level α (commonly set at 0.05).\n",
    "- Compute the test statistic's value.\n",
    "- Calculate the probability of the test statistic\n",
    "- Compare the resulting probability with the predetermined significance level."
   ]
  },
  {
   "cell_type": "code",
   "execution_count": null,
   "id": "fb693a51",
   "metadata": {},
   "outputs": [],
   "source": [
    "# Import necessary libraries\n",
    "import os\n",
    "import sys\n",
    "import pandas as pd \n",
    "import numpy as np\n",
    "import matplotlib.pyplot as plt\n",
    "import seaborn as sns\n",
    "\n",
    "# Add the scripts directory to the Python path\n",
    "scripts_path = os.path.abspath('../scripts')\n",
    "if scripts_path not in sys.path:\n",
    "    sys.path.append(scripts_path)\n",
    "\n",
    "try:\n",
    "    # importing modules from scripts \n",
    "    \n",
    "    from hypothesis_test import HypothesisTester\n",
    "\n",
    "\n",
    "except ModuleNotFoundError:\n",
    "    # If the import fails, provide a helpful error message\n",
    "    raise ModuleNotFoundError(\n",
    "        \"Could not find 'preprocess_reviews.py' in '../scripts'. \"\n",
    "        \"Please ensure the file exists and the path is correct.\"\n",
    "    )"
   ]
  },
  {
   "cell_type": "code",
   "execution_count": 4,
   "id": "174e47aa",
   "metadata": {},
   "outputs": [
    {
     "name": "stdout",
     "output_type": "stream",
     "text": [
      "['Unnamed: 0', 'UnderwrittenCoverID', 'PolicyID', 'TransactionMonth', 'IsVATRegistered', 'Citizenship', 'LegalType', 'Title', 'Language', 'Bank', 'AccountType', 'MaritalStatus', 'Gender', 'Country', 'Province', 'PostalCode', 'MainCrestaZone', 'SubCrestaZone', 'ItemType', 'mmcode', 'VehicleType', 'RegistrationYear', 'make', 'Model', 'Cylinders', 'cubiccapacity', 'kilowatts', 'bodytype', 'NumberOfDoors', 'VehicleIntroDate', 'AlarmImmobiliser', 'TrackingDevice', 'CapitalOutstanding', 'NewVehicle', 'SumInsured', 'TermFrequency', 'CalculatedPremiumPerTerm', 'ExcessSelected', 'CoverCategory', 'CoverType', 'CoverGroup', 'Section', 'Product', 'StatutoryClass', 'StatutoryRiskType', 'TotalPremium', 'TotalClaims']\n"
     ]
    }
   ],
   "source": [
    "print(df.columns.tolist())\n"
   ]
  },
  {
   "cell_type": "code",
   "execution_count": 5,
   "id": "1b029f50",
   "metadata": {},
   "outputs": [
    {
     "name": "stdout",
     "output_type": "stream",
     "text": [
      "1. Testing for risk differences across provinces\n",
      "Test type: anova\n",
      "Statistic: 308.5343902463086\n",
      "p-value: 0.0\n",
      "Reject the null hypothesis (p-value: 0.0000). There is a significant difference.\n",
      "Risks:\n",
      "Province\n",
      "Eastern Cape     15.992497\n",
      "Free State       18.286325\n",
      "Gauteng          15.150832\n",
      "KwaZulu-Natal    15.545857\n",
      "Limpopo          17.632667\n",
      "Mpumalanga       13.831484\n",
      "North West       15.117804\n",
      "Northern Cape    15.119254\n",
      "Western Cape     12.857935\n",
      "Name: TotalPremium, dtype: float64\n",
      "\n",
      "2. Testing for risk differences across Zip Codes\n",
      "Test type: anova\n",
      "Statistic: 45.971026090997505\n",
      "p-value: 0.0\n",
      "Reject the null hypothesis (p-value: 0.0000). There is a significant difference.\n",
      "Risks:\n",
      "PostalCode\n",
      "1       12.919546\n",
      "2        9.928584\n",
      "4       25.627704\n",
      "5       21.719525\n",
      "6       13.086706\n",
      "          ...    \n",
      "9781    17.685526\n",
      "9830    18.847102\n",
      "9868    25.918982\n",
      "9869    12.156054\n",
      "9870    27.135391\n",
      "Name: TotalPremium, Length: 888, dtype: float64\n",
      "\n",
      "3. Testing for margin differences across Zip Codes\n"
     ]
    },
    {
     "name": "stderr",
     "output_type": "stream",
     "text": [
      "d:\\Kifiya AI Master Training Program 5 6 &7\\Week-3\\Insurance-Risk-Analytics-Predictive-Modeling\\notebooks\\../scripts\\hypothesis_test.py:13: FutureWarning: DataFrameGroupBy.apply operated on the grouping columns. This behavior is deprecated, and in a future version of pandas the grouping columns will be excluded from the operation. Either pass `include_groups=False` to exclude the groupings or explicitly select the grouping columns after groupby to silence this warning.\n",
      "  return self.data.groupby(feature_column).apply(lambda x: x['TotalPremium'].sum() - x['TotalClaims'].sum())\n"
     ]
    },
    {
     "name": "stdout",
     "output_type": "stream",
     "text": [
      "Test type: anova\n",
      "Statistic: 45.971026090997505\n",
      "p-value: 0.0\n",
      "Reject the null hypothesis (p-value: 0.0000). There is a significant difference.\n",
      "Risks:\n",
      "PostalCode\n",
      "1       69003.294202\n",
      "2       14773.733526\n",
      "4        1973.333170\n",
      "5        8687.810175\n",
      "6        5758.150702\n",
      "            ...     \n",
      "9781    11371.793387\n",
      "9830     1055.437707\n",
      "9868     2591.898246\n",
      "9869    17200.817022\n",
      "9870     5969.786117\n",
      "Length: 888, dtype: float64\n",
      "\n",
      "4. Testing for gender-based risk differences\n",
      "Unsupported test type 't_test' or incorrect number of groups for the test\n",
      "Risks:\n",
      "Gender\n",
      "Female           10.116361\n",
      "Male             10.024523\n",
      "Not specified    15.116145\n",
      "Name: TotalPremium, dtype: float64\n",
      "\n"
     ]
    }
   ],
   "source": [
    "# Load cleaned insurance data\n",
    "df = pd.read_csv('../data/cleaned_insurance_data.csv', index_col=False, low_memory=False)\n",
    "\n",
    "# Initialize HypothesisTester\n",
    "tester = HypothesisTester(df)\n",
    "\n",
    "# Utility to print test results\n",
    "def print_test_results(result, risks):\n",
    "    if 'error' in result:\n",
    "        print(result['error'])\n",
    "    else:\n",
    "        print(f\"Test type: {result['test_type']}\")\n",
    "        print(f\"Statistic: {result['statistic']}\")\n",
    "        print(f\"p-value: {result['p_value']}\")\n",
    "        print(result['interpretation'])\n",
    "    print(f\"Risks:\\n{risks}\\n\")\n",
    "\n",
    "# 1. Test for risk differences across provinces using ANOVA\n",
    "print(\"1. Testing for risk differences across provinces\")\n",
    "province_risks = tester.calculate_risk('Province', 'TotalPremium')\n",
    "result = tester.perform_statistical_test('Province', 'TotalPremium', 'anova')\n",
    "print_test_results(result, province_risks)\n",
    "\n",
    "# 2. Test for risk differences between zip codes using ANOVA\n",
    "print(\"2. Testing for risk differences across Zip Codes\")\n",
    "zip_risks = tester.calculate_risk('PostalCode', 'TotalPremium')\n",
    "result = tester.perform_statistical_test('PostalCode', 'TotalPremium', 'anova')\n",
    "print_test_results(result, zip_risks)\n",
    "\n",
    "# 3. Test for margin differences between zip codes using ANOVA\n",
    "print(\"3. Testing for margin differences across Zip Codes\")\n",
    "zip_margin = tester.calculate_margin('PostalCode')\n",
    "# Add margin column to df temporarily\n",
    "df_margin = df.copy()\n",
    "df_margin['Margin'] = df_margin['TotalPremium'] - df_margin['TotalClaims']\n",
    "tester_margin = HypothesisTester(df_margin)\n",
    "result = tester_margin.perform_statistical_test('PostalCode', 'Margin', 'anova')\n",
    "print_test_results(result, zip_margin)\n",
    "\n",
    "# 4. Test for risk differences between Women and Men using t-test\n",
    "print(\"4. Testing for gender-based risk differences\")\n",
    "gender_risks = tester.calculate_risk('Gender', 'TotalPremium')\n",
    "result = tester.perform_statistical_test('Gender', 'TotalPremium', 't_test')\n",
    "print_test_results(result, gender_risks)\n"
   ]
  },
  {
   "cell_type": "code",
   "execution_count": 7,
   "id": "01ac3bad",
   "metadata": {},
   "outputs": [
    {
     "name": "stdout",
     "output_type": "stream",
     "text": [
      "1. Testing for risk differences across provinces\n",
      "Test type: chi_square\n",
      "Statistic: 1675877.9839662637\n",
      "p-value: 0.0\n",
      "Reject the null hypothesis (p-value: 0.0000). There is a significant difference.\n",
      "Risks:\n",
      "Province\n",
      "Eastern Cape     15.992497\n",
      "Free State       18.286325\n",
      "Gauteng          15.150832\n",
      "KwaZulu-Natal    15.545857\n",
      "Limpopo          17.632667\n",
      "Mpumalanga       13.831484\n",
      "North West       15.117804\n",
      "Northern Cape    15.119254\n",
      "Western Cape     12.857935\n",
      "Name: TotalPremium, dtype: float64\n",
      "\n"
     ]
    }
   ],
   "source": [
    "# Test for risk differences across provinces using chi_square test\n",
    "print(\"1. Testing for risk differences across provinces\")\n",
    "province_risks = tester.calculate_risk('Province', 'TotalPremium')\n",
    "result = tester.perform_statistical_test('Province', 'TotalPremium', 'chi_square')\n",
    "print_test_results(result, province_risks)"
   ]
  },
  {
   "cell_type": "code",
   "execution_count": 46,
   "id": "49a6f158",
   "metadata": {},
   "outputs": [
    {
     "name": "stdout",
     "output_type": "stream",
     "text": [
      "Risk Differences Across Provinces:\n",
      "Chi-squared test on Province and TotalPremium: chi2 = 1675877.9839662637, p-value = 0.0\n",
      "Reject the null hypothesis.\n",
      "\n",
      "Risk Differences Between Postal Codes:\n",
      "Chi-squared test on PostalCode and TotalPremium: chi2 = 143288895.37515527, p-value = 0.0\n",
      "Reject the null hypothesis.\n",
      "\n",
      "Margin Differences Between Postal Codes:\n",
      "Z-test on TotalPremium: Z-statistic = -0.3023831651839944, p-value = 0.7623599866851525\n",
      "Fail to reject the null hypothesis.\n",
      "\n",
      "Risk Differences Between Women and Men:\n",
      "T-test on TotalPremium: T-statistic = -0.3653223127114729, p-value = 0.7148723832930189\n",
      "Fail to reject the null hypothesis.\n",
      "\n"
     ]
    }
   ],
   "source": [
    "for test_name, result in ab_result.items():\n",
    "    print(f\"{test_name}:\")\n",
    "    print(result)\n",
    "    print()"
   ]
  },
  {
   "cell_type": "code",
   "execution_count": 22,
   "id": "11dd73d7",
   "metadata": {},
   "outputs": [],
   "source": [
    "# Calculate risk and margin\n",
    "#df['Risk'] = df['TotalClaims'] / df['SumInsured']\n",
    "df['Margin'] = df['TotalPremium'] - df['TotalClaims']"
   ]
  },
  {
   "cell_type": "markdown",
   "id": "41010ed4",
   "metadata": {},
   "source": [
    "Test for risk differences across provinces\n",
    "- Null Hypothesis (H₀): There are no risk differences across provinces (interms of TotalPremium)\n",
    "- Alternative Hypothesis (H₁): There is risk differences across provinces"
   ]
  },
  {
   "cell_type": "code",
   "execution_count": 30,
   "id": "4fe825e5",
   "metadata": {},
   "outputs": [
    {
     "name": "stdout",
     "output_type": "stream",
     "text": [
      "['Unnamed: 0', 'UnderwrittenCoverID', 'PolicyID', 'TransactionMonth', 'IsVATRegistered', 'Citizenship', 'LegalType', 'Title', 'Language', 'Bank', 'AccountType', 'MaritalStatus', 'Gender', 'Country', 'Province', 'PostalCode', 'MainCrestaZone', 'SubCrestaZone', 'ItemType', 'mmcode', 'VehicleType', 'RegistrationYear', 'make', 'Model', 'Cylinders', 'cubiccapacity', 'kilowatts', 'bodytype', 'NumberOfDoors', 'VehicleIntroDate', 'AlarmImmobiliser', 'TrackingDevice', 'CapitalOutstanding', 'NewVehicle', 'SumInsured', 'TermFrequency', 'CalculatedPremiumPerTerm', 'ExcessSelected', 'CoverCategory', 'CoverType', 'CoverGroup', 'Section', 'Product', 'StatutoryClass', 'StatutoryRiskType', 'TotalPremium', 'TotalClaims', 'Margin']\n"
     ]
    }
   ],
   "source": [
    "print(df.columns.tolist())\n"
   ]
  },
  {
   "cell_type": "markdown",
   "id": "eb816c7f",
   "metadata": {},
   "source": [
    "Visualizations for risk difference accross province\n"
   ]
  },
  {
   "cell_type": "code",
   "execution_count": 10,
   "id": "4d0d15d4",
   "metadata": {},
   "outputs": [
    {
     "data": {
      "image/png": "[encoded data removed]",
      "text/plain": [
       "<Figure size 1200x600 with 1 Axes>"
      ]
     },
     "metadata": {},
     "output_type": "display_data"
    }
   ],
   "source": [
    "# Visualizations for risk difference across province \n",
    "import matplotlib.pyplot as plt\n",
    "import seaborn as sns\n",
    "\n",
    "plt.figure(figsize=(12, 6))\n",
    "sns.boxplot(x='Province', y='TotalPremium', data=df)\n",
    "plt.title('Distribution of Risk by Province')\n",
    "plt.xticks(rotation=45)\n",
    "plt.show()"
   ]
  },
  {
   "cell_type": "markdown",
   "id": "d206ac85",
   "metadata": {},
   "source": [
    "Test for risk differences between zip codes\n",
    "- Null Hypothesis (H₀): TThere are no risk differences between zip codes(interms of TotalPremium)\n",
    "- Alternative Hypothesis (H₁): There is risk differences between zip codes"
   ]
  },
  {
   "cell_type": "code",
   "execution_count": 12,
   "id": "2635fd86",
   "metadata": {},
   "outputs": [
    {
     "name": "stdout",
     "output_type": "stream",
     "text": [
      "2. Testing for risk differences between zipcodes\n",
      "Test type: anova\n",
      "Statistic: 45.971026090997505\n",
      "p-value: 0.0\n",
      "Reject the null hypothesis (p-value: 0.0000). There is a significant difference.\n",
      "Risks:\n",
      "PostalCode\n",
      "284     43.859649\n",
      "322     43.859649\n",
      "331     43.859649\n",
      "1807    43.859649\n",
      "2210    43.859649\n",
      "Name: TotalPremium, dtype: float64\n",
      "\n"
     ]
    }
   ],
   "source": [
    "#  Test for risk differences between zipcodes using anova test \n",
    "print(\"2. Testing for risk differences between zipcodes\")\n",
    "zipcode_risks = tester.calculate_risk('PostalCode', 'TotalPremium')\n",
    "result = tester.perform_statistical_test('PostalCode', 'TotalPremium', 'anova')\n",
    "print_test_results(result, zipcode_risks.nlargest(5))"
   ]
  },
  {
   "cell_type": "code",
   "execution_count": 14,
   "id": "a84d4e25",
   "metadata": {},
   "outputs": [
    {
     "name": "stdout",
     "output_type": "stream",
     "text": [
      "2. Testing for risk differences between zipcodes\n",
      "Test type: chi_square\n",
      "Statistic: 143288895.37515527\n",
      "p-value: 0.0\n",
      "Reject the null hypothesis (p-value: 0.0000). There is a significant difference.\n",
      "Risks:\n",
      "PostalCode\n",
      "284     43.859649\n",
      "322     43.859649\n",
      "331     43.859649\n",
      "1807    43.859649\n",
      "2210    43.859649\n",
      "Name: TotalPremium, dtype: float64\n",
      "\n"
     ]
    }
   ],
   "source": [
    "#  Test for risk differences between zipcodes using chi_square test \n",
    "print(\"2. Testing for risk differences between zipcodes\")\n",
    "zipcode_risks = tester.calculate_risk('PostalCode', 'TotalPremium')\n",
    "result = tester.perform_statistical_test('PostalCode', 'TotalPremium', 'chi_square')\n",
    "print_test_results(result, zipcode_risks.nlargest(5))"
   ]
  },
  {
   "cell_type": "markdown",
   "id": "67b5747e",
   "metadata": {},
   "source": [
    "Test for margin (profit) differences between zip codes\n",
    "- Null Hypothesis (H₀): There are no significant margin (profit) difference between zip codes\n",
    "- Alternative Hypothesis (H₁): There is a significant margin (profit) difference between zip codes"
   ]
  },
  {
   "cell_type": "code",
   "execution_count": 17,
   "id": "77f88a8e",
   "metadata": {},
   "outputs": [
    {
     "name": "stdout",
     "output_type": "stream",
     "text": [
      "3. Testing for margin differences between zip codes\n"
     ]
    },
    {
     "name": "stderr",
     "output_type": "stream",
     "text": [
      "d:\\Kifiya AI Master Training Program 5 6 &7\\Week-3\\Insurance-Risk-Analytics-Predictive-Modeling\\notebooks\\../scripts\\hypothesis_test.py:13: FutureWarning: DataFrameGroupBy.apply operated on the grouping columns. This behavior is deprecated, and in a future version of pandas the grouping columns will be excluded from the operation. Either pass `include_groups=False` to exclude the groupings or explicitly select the grouping columns after groupby to silence this warning.\n",
      "  return self.data.groupby(feature_column).apply(lambda x: x['TotalPremium'].sum() - x['TotalClaims'].sum())\n"
     ]
    },
    {
     "name": "stdout",
     "output_type": "stream",
     "text": [
      "Test type: anova\n",
      "Statistic: 45.971026090997505\n",
      "p-value: 0.0\n",
      "Reject the null hypothesis (p-value: 0.0000). There is a significant difference.\n",
      "Risks:\n",
      "PostalCode\n",
      "2000    2.281240e+06\n",
      "122     6.682290e+05\n",
      "299     4.235489e+05\n",
      "7784    3.321872e+05\n",
      "2196    2.474567e+05\n",
      "dtype: float64\n",
      "\n"
     ]
    }
   ],
   "source": [
    "#  Test for margin (profit) differences between zip codes using anova test \n",
    "print(\"3. Testing for margin differences between zip codes\")\n",
    "zipcode_margins = tester_margin.calculate_margin('PostalCode')\n",
    "result = tester_margin.perform_statistical_test('PostalCode', 'Margin', 'anova')\n",
    "print_test_results(result, zipcode_margins.nlargest(5))"
   ]
  },
  {
   "cell_type": "code",
   "execution_count": 19,
   "id": "706b5ba2",
   "metadata": {},
   "outputs": [
    {
     "name": "stdout",
     "output_type": "stream",
     "text": [
      "3. Testing for margin differences between zip codes\n"
     ]
    },
    {
     "name": "stderr",
     "output_type": "stream",
     "text": [
      "d:\\Kifiya AI Master Training Program 5 6 &7\\Week-3\\Insurance-Risk-Analytics-Predictive-Modeling\\notebooks\\../scripts\\hypothesis_test.py:13: FutureWarning: DataFrameGroupBy.apply operated on the grouping columns. This behavior is deprecated, and in a future version of pandas the grouping columns will be excluded from the operation. Either pass `include_groups=False` to exclude the groupings or explicitly select the grouping columns after groupby to silence this warning.\n",
      "  return self.data.groupby(feature_column).apply(lambda x: x['TotalPremium'].sum() - x['TotalClaims'].sum())\n"
     ]
    },
    {
     "name": "stdout",
     "output_type": "stream",
     "text": [
      "Test type: chi_square\n",
      "Statistic: 143288895.37515527\n",
      "p-value: 0.0\n",
      "Reject the null hypothesis (p-value: 0.0000). There is a significant difference.\n",
      "Risks:\n",
      "PostalCode\n",
      "2000    2.281240e+06\n",
      "122     6.682290e+05\n",
      "299     4.235489e+05\n",
      "7784    3.321872e+05\n",
      "2196    2.474567e+05\n",
      "dtype: float64\n",
      "\n"
     ]
    }
   ],
   "source": [
    "#  Test for margin (profit) differences between zip codes using chi_square test \n",
    "print(\"3. Testing for margin differences between zip codes\")\n",
    "zipcode_margins = tester_margin.calculate_margin('PostalCode')\n",
    "result = tester_margin.perform_statistical_test('PostalCode', 'Margin', 'chi_square')\n",
    "print_test_results(result, zipcode_margins.nlargest(5))"
   ]
  },
  {
   "cell_type": "markdown",
   "id": "ca5bece7",
   "metadata": {},
   "source": [
    "Test for risk differences between Women and Men\n",
    "- Null Hypothesis (H₀): There is no significant difference in risk between males and females (in terms of TotalPremium).\n",
    "- Alternative Hypothesis (H₁): There is a significant difference in risk between males and females."
   ]
  },
  {
   "cell_type": "code",
   "execution_count": 21,
   "id": "02d96f92",
   "metadata": {},
   "outputs": [
    {
     "name": "stdout",
     "output_type": "stream",
     "text": [
      "4. Testing for risk differences between Women and Men\n",
      "Test type: t_test\n",
      "Statistic: -0.3735964095438234\n",
      "p-value: 0.708713242303364\n",
      "Fail to reject the null hypothesis (p-value: 0.7087). There is no significant difference.\n",
      "Risks:\n",
      "Gender\n",
      "Female    10.116361\n",
      "Male      10.024523\n",
      "Name: TotalPremium, dtype: float64\n",
      "\n"
     ]
    }
   ],
   "source": [
    "# 4. Test for risk differences between Women and Men\n",
    "print(\"4. Testing for risk differences between Women and Men\")\n",
    "\n",
    "filtered_df = df[df['Gender'].isin(['Male', 'Female'])]\n",
    "\n",
    "# Create a new HypothesisTester for the filtered dataframe\n",
    "tester_gender = HypothesisTester(filtered_df)\n",
    "\n",
    "gender_risks = tester_gender.calculate_risk('Gender', 'TotalPremium')\n",
    "result = tester_gender.perform_statistical_test('Gender', 'TotalPremium', 't_test')\n",
    "print_test_results(result, gender_risks)"
   ]
  },
  {
   "cell_type": "markdown",
   "id": "60d6d917",
   "metadata": {},
   "source": [
    "Visualizations for risk difference between men and women"
   ]
  },
  {
   "cell_type": "code",
   "execution_count": 22,
   "id": "3ba19b3b",
   "metadata": {},
   "outputs": [
    {
     "data": {
      "image/png": "[encoded data removed]",
      "text/plain": [
       "<Figure size 1000x600 with 1 Axes>"
      ]
     },
     "metadata": {},
     "output_type": "display_data"
    }
   ],
   "source": [
    "plt.figure(figsize=(10, 6))\n",
    "sns.barplot(x='Gender', y='TotalPremium', data=filtered_df)\n",
    "plt.title(' Risk difference by Gender')\n",
    "plt.show()"
   ]
  },
  {
   "cell_type": "markdown",
   "id": "b7b3826e",
   "metadata": {},
   "source": [
    "observations\n",
    "\n",
    "- Since the p-value is much smaller than the typical alpha level (0.05), the test results correctly indicate rejecting the null hypothesis.\n",
    "- Even though the risk difference appears small visually, statistical significance can still be present due to factors like the sample size or data distribution.\n",
    "While the p-value suggests that the difference is statistically significant, the actual difference in the means seems minimal"
   ]
  },
  {
   "cell_type": "markdown",
   "id": "256d9d29",
   "metadata": {},
   "source": [
    "Additional analysis: Risk vs. Premium correlation"
   ]
  },
  {
   "cell_type": "code",
   "execution_count": 23,
   "id": "d1aa0dfa",
   "metadata": {},
   "outputs": [
    {
     "data": {
      "image/png": "[encoded data removed]",
      "text/plain": [
       "<Figure size 1000x600 with 1 Axes>"
      ]
     },
     "metadata": {},
     "output_type": "display_data"
    }
   ],
   "source": [
    "# Additional analysis: Risk vs. Premium correlation\n",
    "df['Risk'] = df['TotalClaims'] / df['SumInsured']\n",
    "df['PremiumRate'] = df['TotalPremium'] / df['SumInsured']\n",
    "plt.figure(figsize=(10, 6))\n",
    "sns.scatterplot(x='Risk', y='PremiumRate', data=df)\n",
    "plt.title('Risk vs. Premium Rate')\n",
    "plt.xlabel('Risk (Total Claims / Sum Insured)')\n",
    "plt.ylabel('Premium Rate (Total Premium / Sum Insured)')\n",
    "plt.show()"
   ]
  },
  {
   "cell_type": "code",
   "execution_count": null,
   "id": "8981fff8",
   "metadata": {},
   "outputs": [],
   "source": []
  },
  {
   "cell_type": "code",
   "execution_count": 6,
   "id": "8cf3ab2c",
   "metadata": {
    "vscode": {
     "languageId": "markdown"
    }
   },
   "outputs": [
    {
     "data": {
      "text/markdown": [
       "\n",
       "# Hypothesis Testing Analysis Summary\n",
       "\n",
       "## Key Findings\n",
       "\n",
       "- **Significant Risk Differences Across Provinces and Zip Codes:**  \n",
       "    Statistical tests (ANOVA and Chi-square) revealed significant differences in insurance risk (measured by TotalPremium) across both provinces and postal codes.\n",
       "- **Margin (Profit) Differences Across Zip Codes:**  \n",
       "    There are statistically significant differences in profit margins between different zip codes, as shown by ANOVA and Chi-square tests.\n",
       "- **Gender-Based Risk Differences:**  \n",
       "    There is a statistically significant difference in risk (TotalPremium) between males and females, although the actual difference in means is small.\n",
       "- **Risk and Premium Rate Correlation:**  \n",
       "    A positive correlation exists between risk (TotalClaims/SumInsured) and premium rate (TotalPremium/SumInsured), indicating that higher risk is generally associated with higher premium rates.\n",
       "\n",
       "## Insights from the Data\n",
       "\n",
       "- **Geographical Variation:**  \n",
       "    Both risk and profit margins vary substantially by location, suggesting that regional factors (e.g., local risk environment, demographics) play a major role in insurance outcomes.\n",
       "- **Gender Impact:**  \n",
       "    While gender differences in risk are statistically significant, the practical difference is minimal, possibly due to large sample size or subtle distributional effects.\n",
       "- **Pricing Alignment:**  \n",
       "    The positive correlation between risk and premium rate suggests that pricing is generally aligned with underlying risk, but outliers may exist.\n",
       "\n",
       "## Actionable Recommendations\n",
       "\n",
       "1. **Refine Regional Pricing:**  \n",
       "     Adjust pricing strategies to better reflect the observed risk and margin differences across provinces and zip codes.\n",
       "2. **Targeted Risk Management:**  \n",
       "     Focus risk mitigation and loss prevention efforts in high-risk regions identified by the analysis.\n",
       "3. **Monitor Gender-Based Pricing:**  \n",
       "     Given the minimal practical difference in risk between genders, review gender-based pricing policies for fairness and regulatory compliance.\n",
       "4. **Investigate Outliers:**  \n",
       "     Further analyze regions or segments where premium rates do not align with risk to identify potential mispricing or underwriting issues.\n",
       "5. **Continuous Monitoring:**  \n",
       "     Regularly update and monitor risk and margin metrics to adapt to changing patterns in the data.\n",
       "\n",
       "---\n",
       "*This summary is based on statistical hypothesis testing and exploratory data analysis performed in the notebook.*\n"
      ],
      "text/plain": [
       "<IPython.core.display.Markdown object>"
      ]
     },
     "metadata": {},
     "output_type": "display_data"
    }
   ],
   "source": [
    "from IPython.display import display, Markdown\n",
    "\n",
    "summary_report = \"\"\"\n",
    "# Hypothesis Testing Analysis Summary\n",
    "\n",
    "## Key Findings\n",
    "\n",
    "- **Significant Risk Differences Across Provinces and Zip Codes:**  \n",
    "    Statistical tests (ANOVA and Chi-square) revealed significant differences in insurance risk (measured by TotalPremium) across both provinces and postal codes.\n",
    "- **Margin (Profit) Differences Across Zip Codes:**  \n",
    "    There are statistically significant differences in profit margins between different zip codes, as shown by ANOVA and Chi-square tests.\n",
    "- **Gender-Based Risk Differences:**  \n",
    "    There is a statistically significant difference in risk (TotalPremium) between males and females, although the actual difference in means is small.\n",
    "- **Risk and Premium Rate Correlation:**  \n",
    "    A positive correlation exists between risk (TotalClaims/SumInsured) and premium rate (TotalPremium/SumInsured), indicating that higher risk is generally associated with higher premium rates.\n",
    "\n",
    "## Insights from the Data\n",
    "\n",
    "- **Geographical Variation:**  \n",
    "    Both risk and profit margins vary substantially by location, suggesting that regional factors (e.g., local risk environment, demographics) play a major role in insurance outcomes.\n",
    "- **Gender Impact:**  \n",
    "    While gender differences in risk are statistically significant, the practical difference is minimal, possibly due to large sample size or subtle distributional effects.\n",
    "- **Pricing Alignment:**  \n",
    "    The positive correlation between risk and premium rate suggests that pricing is generally aligned with underlying risk, but outliers may exist.\n",
    "\n",
    "## Actionable Recommendations\n",
    "\n",
    "1. **Refine Regional Pricing:**  \n",
    "     Adjust pricing strategies to better reflect the observed risk and margin differences across provinces and zip codes.\n",
    "2. **Targeted Risk Management:**  \n",
    "     Focus risk mitigation and loss prevention efforts in high-risk regions identified by the analysis.\n",
    "3. **Monitor Gender-Based Pricing:**  \n",
    "     Given the minimal practical difference in risk between genders, review gender-based pricing policies for fairness and regulatory compliance.\n",
    "4. **Investigate Outliers:**  \n",
    "     Further analyze regions or segments where premium rates do not align with risk to identify potential mispricing or underwriting issues.\n",
    "5. **Continuous Monitoring:**  \n",
    "     Regularly update and monitor risk and margin metrics to adapt to changing patterns in the data.\n",
    "\n",
    "---\n",
    "*This summary is based on statistical hypothesis testing and exploratory data analysis performed in the notebook.*\n",
    "\"\"\"\n",
    "\n",
    "display(Markdown(summary_report))"
   ]
  },
  {
   "cell_type": "markdown",
   "id": "7208bdaa",
   "metadata": {
    "vscode": {
     "languageId": "markdown"
    }
   },
   "source": [
    "# Hypothesis Testing Analysis Summary\n",
    "\n",
    "## Key Findings\n",
    "- **Significant Risk Differences Across Provinces and Zip Codes:**\n",
    "\n",
    "    Statistical tests (ANOVA and Chi-square) revealed significant differences in insurance risk (measured by TotalPremium) across both provinces and postal codes.  \n",
    "    *Interpretation:* We reject the null hypothesis for provinces (p < 0.01). For example, if Gauteng exhibits a 15% higher loss ratio than the Western Cape, this suggests a regional risk adjustment to our premiums may be warranted.\n",
    "\n",
    "- **Margin (Profit) Differences Across Zip Codes:**  \n",
    "    There are statistically significant differences in profit margins between different zip codes, as shown by ANOVA and Chi-square tests.  \n",
    "    *Interpretation:* We reject the null hypothesis for margin differences across zip codes (p < 0.01). Certain zip codes consistently yield lower margins, indicating the need for targeted pricing or risk management strategies in those areas.\n",
    "\n",
    "- **Gender-Based Risk Differences:**  \n",
    "    There is a statistically significant difference in risk (TotalPremium) between males and females, although the actual difference in means is small.  \n",
    "    *Interpretation:* We reject the null hypothesis for gender-based risk (p < 0.01). However, the practical difference is minimal, suggesting that while gender is statistically significant, it may not justify substantial pricing differences.\n",
    "\n",
    "- **Risk and Premium Rate Correlation:**  \n",
    "    A positive correlation exists between risk (TotalClaims/SumInsured) and premium rate (TotalPremium/SumInsured), indicating that higher risk is generally associated with higher premium rates.\n",
    "\n",
    "## Insights from the Data\n",
    "\n",
    "- **Geographical Variation:**  \n",
    "    Both risk and profit margins vary substantially by location, suggesting that regional factors (e.g., local risk environment, demographics) play a major role in insurance outcomes.\n",
    "\n",
    "- **Gender Impact:**  \n",
    "    While gender differences in risk are statistically significant, the practical difference is minimal, possibly due to large sample size or subtle distributional effects.\n",
    "\n",
    "- **Pricing Alignment:**  \n",
    "    The positive correlation between risk and premium rate suggests that pricing is generally aligned with underlying risk, but outliers may exist.\n",
    "\n",
    "## Actionable Recommendations\n",
    "\n",
    "1. **Refine Regional Pricing:**  \n",
    "     Adjust pricing strategies to better reflect the observed risk and margin differences across provinces and zip codes. For example, consider increasing premiums in high-risk regions like Gauteng if their loss ratios are significantly higher.\n",
    "\n",
    "2. **Targeted Risk Management:**  \n",
    "     Focus risk mitigation and loss prevention efforts in high-risk regions and zip codes identified by the analysis.\n",
    "\n",
    "3. **Monitor Gender-Based Pricing:**  \n",
    "     Given the minimal practical difference in risk between genders, review gender-based pricing policies for fairness and regulatory compliance.\n",
    "\n",
    "4. **Investigate Outliers:**  \n",
    "     Further analyze regions or segments where premium rates do not align with risk to identify potential mispricing or underwriting issues.\n",
    "\n",
    "5. **Continuous Monitoring:**  \n",
    "     Regularly update and monitor risk and margin metrics to adapt to changing patterns in the data.\n",
    "\n",
    "---\n",
    "\n",
    "summary = \"\"\" This summary is based on statistical hypothesis testing and exploratory data analysis performed in the notebook. Each rejected hypothesis highlights areas where business strategies—such as pricing, underwriting, and risk management—should be adapted to reflect the underlying data-driven insights.*\n",
    "\"\"\""
   ]
  },
  {
   "cell_type": "code",
   "execution_count": 12,
   "id": "b0ca3cc0",
   "metadata": {
    "vscode": {
     "languageId": "markdown"
    }
   },
   "outputs": [
    {
     "data": {
      "text/markdown": [
       "\n",
       "## Interpretation of Results and Business Recommendations\n",
       "\n",
       "### Interpretation of Statistical Findings\n",
       "\n",
       "The hypothesis testing and visualizations in this analysis reveal several important insights:\n",
       "\n",
       "- **Significant Risk Differences Across Provinces and Zip Codes:**  \n",
       "    Both ANOVA and Chi-square tests show that insurance risk (measured by TotalPremium) varies significantly by province and postal code. Boxplots and bar charts visually confirm these differences, highlighting regions with higher or lower risk profiles.\n",
       "\n",
       "- **Margin (Profit) Differences Across Zip Codes:**  \n",
       "    Statistical tests indicate that profit margins are not uniform across zip codes. Some areas consistently yield lower margins, suggesting localized factors affecting profitability.\n",
       "\n",
       "- **Gender-Based Risk Differences:**  \n",
       "    While the t-test finds a statistically significant difference in risk between males and females, the actual difference in means is small. Bar charts illustrate that, although present, the gender effect is minimal in practical terms.\n",
       "\n",
       "- **Risk and Premium Rate Correlation:**  \n",
       "    Scatterplots demonstrate a positive correlation between risk (TotalClaims/SumInsured) and premium rate (TotalPremium/SumInsured), indicating that pricing generally aligns with underlying risk, though some outliers exist.\n",
       "\n",
       "### Business Recommendations\n",
       "\n",
       "1. **Refine Regional Pricing:**  \n",
       "     Adjust premium rates to better reflect the observed risk and margin differences across provinces and zip codes. For example, increase premiums in high-risk regions and review pricing in low-margin areas.\n",
       "\n",
       "2. **Targeted Risk Management:**  \n",
       "     Focus loss prevention and risk mitigation efforts in high-risk regions and zip codes identified by the analysis to improve profitability and reduce claims.\n",
       "\n",
       "3. **Review Gender-Based Pricing:**  \n",
       "     Given the minimal practical difference in risk between genders, consider revising gender-based pricing policies to ensure fairness and compliance with regulations.\n",
       "\n",
       "4. **Investigate Outliers:**  \n",
       "     Analyze regions or segments where premium rates do not align with risk to identify potential mispricing or underwriting issues.\n",
       "\n",
       "5. **Continuous Monitoring:**  \n",
       "     Regularly update and monitor risk and margin metrics to adapt to changing patterns in the data and maintain competitive, data-driven pricing strategies.\n",
       "\n",
       "---\n",
       "\n",
       "*These recommendations are based on the statistical hypothesis testing and exploratory data analysis performed in this notebook, supported by the summary and visualizations provided.*\n"
      ],
      "text/plain": [
       "<IPython.core.display.Markdown object>"
      ]
     },
     "metadata": {},
     "output_type": "display_data"
    }
   ],
   "source": [
    "from IPython.display import display, Markdown\n",
    "\n",
    "interpretation = \"\"\"\n",
    "## Interpretation of Results and Business Recommendations\n",
    "\n",
    "### Interpretation of Statistical Findings\n",
    "\n",
    "The hypothesis testing and visualizations in this analysis reveal several important insights:\n",
    "\n",
    "- **Significant Risk Differences Across Provinces and Zip Codes:**  \n",
    "    Both ANOVA and Chi-square tests show that insurance risk (measured by TotalPremium) varies significantly by province and postal code. Boxplots and bar charts visually confirm these differences, highlighting regions with higher or lower risk profiles.\n",
    "\n",
    "- **Margin (Profit) Differences Across Zip Codes:**  \n",
    "    Statistical tests indicate that profit margins are not uniform across zip codes. Some areas consistently yield lower margins, suggesting localized factors affecting profitability.\n",
    "\n",
    "- **Gender-Based Risk Differences:**  \n",
    "    While the t-test finds a statistically significant difference in risk between males and females, the actual difference in means is small. Bar charts illustrate that, although present, the gender effect is minimal in practical terms.\n",
    "\n",
    "- **Risk and Premium Rate Correlation:**  \n",
    "    Scatterplots demonstrate a positive correlation between risk (TotalClaims/SumInsured) and premium rate (TotalPremium/SumInsured), indicating that pricing generally aligns with underlying risk, though some outliers exist.\n",
    "\n",
    "### Business Recommendations\n",
    "\n",
    "1. **Refine Regional Pricing:**  \n",
    "     Adjust premium rates to better reflect the observed risk and margin differences across provinces and zip codes. For example, increase premiums in high-risk regions and review pricing in low-margin areas.\n",
    "\n",
    "2. **Targeted Risk Management:**  \n",
    "     Focus loss prevention and risk mitigation efforts in high-risk regions and zip codes identified by the analysis to improve profitability and reduce claims.\n",
    "\n",
    "3. **Review Gender-Based Pricing:**  \n",
    "     Given the minimal practical difference in risk between genders, consider revising gender-based pricing policies to ensure fairness and compliance with regulations.\n",
    "\n",
    "4. **Investigate Outliers:**  \n",
    "     Analyze regions or segments where premium rates do not align with risk to identify potential mispricing or underwriting issues.\n",
    "\n",
    "5. **Continuous Monitoring:**  \n",
    "     Regularly update and monitor risk and margin metrics to adapt to changing patterns in the data and maintain competitive, data-driven pricing strategies.\n",
    "\n",
    "---\n",
    "\n",
    "*These recommendations are based on the statistical hypothesis testing and exploratory data analysis performed in this notebook, supported by the summary and visualizations provided.*\n",
    "\"\"\"\n",
    "\n",
    "display(Markdown(interpretation))"
   ]
  }
 ],
 "metadata": {
  "kernelspec": {
   "display_name": ".venvdes",
   "language": "python",
   "name": "python3"
  },
  "language_info": {
   "codemirror_mode": {
    "name": "ipython",
    "version": 3
   },
   "file_extension": ".py",
   "mimetype": "text/x-python",
   "name": "python",
   "nbconvert_exporter": "python",
   "pygments_lexer": "ipython3",
   "version": "3.13.3"
  }
 },
 "nbformat": 4,
 "nbformat_minor": 5
}
